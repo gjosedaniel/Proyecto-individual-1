{
 "cells": [
  {
   "cell_type": "markdown",
   "metadata": {},
   "source": [
    "## Configuraciones Iniciales\n"
   ]
  },
  {
   "cell_type": "code",
   "execution_count": 4,
   "metadata": {},
   "outputs": [],
   "source": [
    "import sys\n",
    "import os\n",
    "import pandas as pd\n",
    "\n",
    "# Agregar la ruta del directorio scripts\n",
    "sys.path.append(os.path.abspath(os.path.join('..', 'scripts')))\n",
    "\n",
    "# Configuración de directorios\n",
    "RAW_DIR = r'D:\\Henry Data Science\\Proyecto_individual_1\\Datasets'\n",
    "PROCESSED_DIR = r'D:\\Henry Data Science\\Proyecto_individual_1\\Data'\n",
    "\n",
    "# Crear directorio de destino si no existe\n",
    "os.makedirs(PROCESSED_DIR, exist_ok=True)"
   ]
  },
  {
   "cell_type": "markdown",
   "metadata": {},
   "source": [
    "### Conversión de archivos CSV a Parquet.\n",
    "- La conversión del archivo CSV a Parquet optimiza el manejo de datos y reduce el tamaño del archivo."
   ]
  },
  {
   "cell_type": "code",
   "execution_count": 5,
   "metadata": {},
   "outputs": [
    {
     "name": "stdout",
     "output_type": "stream",
     "text": [
      "Archivo convertido correctamente y guardado en: D:\\Henry Data Science\\Proyecto_individual_1\\Datasets\\credits.parquet\n"
     ]
    },
    {
     "data": {
      "text/html": [
       "<div>\n",
       "<style scoped>\n",
       "    .dataframe tbody tr th:only-of-type {\n",
       "        vertical-align: middle;\n",
       "    }\n",
       "\n",
       "    .dataframe tbody tr th {\n",
       "        vertical-align: top;\n",
       "    }\n",
       "\n",
       "    .dataframe thead th {\n",
       "        text-align: right;\n",
       "    }\n",
       "</style>\n",
       "<table border=\"1\" class=\"dataframe\">\n",
       "  <thead>\n",
       "    <tr style=\"text-align: right;\">\n",
       "      <th></th>\n",
       "      <th>cast</th>\n",
       "      <th>crew</th>\n",
       "      <th>id</th>\n",
       "    </tr>\n",
       "  </thead>\n",
       "  <tbody>\n",
       "    <tr>\n",
       "      <th>0</th>\n",
       "      <td>[{'cast_id': 14, 'character': 'Woody (voice)',...</td>\n",
       "      <td>[{'credit_id': '52fe4284c3a36847f8024f49', 'de...</td>\n",
       "      <td>862</td>\n",
       "    </tr>\n",
       "    <tr>\n",
       "      <th>1</th>\n",
       "      <td>[{'cast_id': 1, 'character': 'Alan Parrish', '...</td>\n",
       "      <td>[{'credit_id': '52fe44bfc3a36847f80a7cd1', 'de...</td>\n",
       "      <td>8844</td>\n",
       "    </tr>\n",
       "    <tr>\n",
       "      <th>2</th>\n",
       "      <td>[{'cast_id': 2, 'character': 'Max Goldman', 'c...</td>\n",
       "      <td>[{'credit_id': '52fe466a9251416c75077a89', 'de...</td>\n",
       "      <td>15602</td>\n",
       "    </tr>\n",
       "  </tbody>\n",
       "</table>\n",
       "</div>"
      ],
      "text/plain": [
       "                                                cast  \\\n",
       "0  [{'cast_id': 14, 'character': 'Woody (voice)',...   \n",
       "1  [{'cast_id': 1, 'character': 'Alan Parrish', '...   \n",
       "2  [{'cast_id': 2, 'character': 'Max Goldman', 'c...   \n",
       "\n",
       "                                                crew     id  \n",
       "0  [{'credit_id': '52fe4284c3a36847f8024f49', 'de...    862  \n",
       "1  [{'credit_id': '52fe44bfc3a36847f80a7cd1', 'de...   8844  \n",
       "2  [{'credit_id': '52fe466a9251416c75077a89', 'de...  15602  "
      ]
     },
     "execution_count": 5,
     "metadata": {},
     "output_type": "execute_result"
    }
   ],
   "source": [
    "from convert_csv_to_parquet import convertir_csv_a_parquet\n",
    "\n",
    "# Convertir archivo CSV a formato Parquet\n",
    "convertir_csv_a_parquet(\n",
    "    os.path.join(RAW_DIR, 'credits.csv'),\n",
    "    os.path.join(RAW_DIR, 'credits.parquet')\n",
    ")\n",
    "\n",
    "# Leer el archivo Parquet convertido\n",
    "df = pd.read_parquet(os.path.join(RAW_DIR, 'credits.parquet'))\n",
    "df.head(3)"
   ]
  },
  {
   "cell_type": "markdown",
   "metadata": {},
   "source": [
    "### Desanidado de la Columna cast"
   ]
  },
  {
   "cell_type": "code",
   "execution_count": 6,
   "metadata": {},
   "outputs": [],
   "source": [
    "from convert_str_to_list_dic import convert_list_dict\n",
    "from dislodge_columns import desanidar_columna\n",
    "\n",
    "# Convertir columna 'cast' de string a lista de diccionarios\n",
    "df['cast'] = df['cast'].apply(convert_list_dict)\n",
    "\n",
    "# Desanidar la columna 'cast'\n",
    "cast_desanidado = desanidar_columna(df, 'cast', 'cast_desanidado')\n",
    "\n",
    "# Agregar columna 'id' del DataFrame original a 'cast_desanidado'\n",
    "cast_desanidado = cast_desanidado.merge(df[['cast_id', 'id']], on='cast_id', how='left', suffixes=('', '_df'))\n",
    "\n",
    "# Eliminar filas con valores nulos en columnas relevantes\n",
    "columnas_con_nulos = ['character', 'credit_id', 'gender', 'id', 'name', 'order']\n",
    "cast_desanidado = cast_desanidado.dropna(subset=columnas_con_nulos)\n",
    "\n",
    "# Estandarizar datos en columnas clave\n",
    "cast_desanidado['name'] = cast_desanidado['name'].str.lower()\n",
    "cast_desanidado['id'] = cast_desanidado['id'].astype(int)\n",
    "\n",
    "# Eliminar columnas innecesarias\n",
    "cast_desanidado = cast_desanidado.drop(columns=['character', 'profile_path', 'order'])"
   ]
  },
  {
   "cell_type": "markdown",
   "metadata": {},
   "source": [
    "### Desanidado de la Columna crew"
   ]
  },
  {
   "cell_type": "code",
   "execution_count": 7,
   "metadata": {},
   "outputs": [],
   "source": [
    "# Convertir columna 'crew' de string a lista de diccionarios\n",
    "df['crew'] = df['crew'].apply(convert_list_dict)\n",
    "\n",
    "# Desanidar la columna 'crew'\n",
    "crew_desanidado = desanidar_columna(df, 'crew', 'crew_desanidado', 1)\n",
    "\n",
    "# Agregar columna 'id' del DataFrame original a 'crew_desanidado'\n",
    "crew_desanidado = crew_desanidado.merge(df[['crew_id', 'id']], on='crew_id', how='left', suffixes=('', '_df'))\n",
    "\n",
    "# Eliminar filas con valores nulos en columnas relevantes\n",
    "columnas_con_nulos = ['credit_id', 'department', 'gender', 'id', 'job', 'name']\n",
    "crew_desanidado = crew_desanidado.dropna(subset=columnas_con_nulos)\n",
    "\n",
    "# Filtrar solo los datos de directores y estandarizar datos\n",
    "crew_desanidado = crew_desanidado[crew_desanidado['job'] == 'Director']\n",
    "crew_desanidado['name'] = crew_desanidado['name'].str.lower()\n",
    "crew_desanidado['id'] = crew_desanidado['id'].astype(int)\n",
    "\n",
    "# Eliminar columnas redundantes\n",
    "crew_desanidado = crew_desanidado.drop(columns=['department', 'profile_path'])"
   ]
  },
  {
   "cell_type": "markdown",
   "metadata": {},
   "source": [
    "### Preparación para la exportación.\n",
    "- Convertir listas de nuevo a cadenas para garantizar compatibilidad al exportar."
   ]
  },
  {
   "cell_type": "code",
   "execution_count": 8,
   "metadata": {},
   "outputs": [],
   "source": [
    "from convert_list_to_str import lista_a_str\n",
    "\n",
    "# Convertir listas de nuevo a strings para exportar\n",
    "df['cast'] = df['cast'].apply(lista_a_str)\n",
    "df['crew'] = df['crew'].apply(lista_a_str)"
   ]
  },
  {
   "cell_type": "markdown",
   "metadata": {},
   "source": [
    "### Exportación de Tablas Procesadas"
   ]
  },
  {
   "cell_type": "code",
   "execution_count": 9,
   "metadata": {},
   "outputs": [
    {
     "name": "stdout",
     "output_type": "stream",
     "text": [
      "Datos de 'cast_desanidado' exportados correctamente.\n",
      "Datos de 'crew_desanidado' exportados correctamente.\n"
     ]
    }
   ],
   "source": [
    "# Exportar cast desanidado\n",
    "cast_path = os.path.join(PROCESSED_DIR, 'cast_desanidado.parquet')\n",
    "cast_desanidado.to_parquet(cast_path, engine='pyarrow', compression='snappy', index=False)\n",
    "print(\"Datos de 'cast_desanidado' exportados correctamente.\")\n",
    "\n",
    "# Exportar crew desanidado\n",
    "crew_path = os.path.join(PROCESSED_DIR, 'crew_desanidado.parquet')\n",
    "crew_desanidado.to_parquet(crew_path, engine='pyarrow', compression='snappy', index=False)\n",
    "print(\"Datos de 'crew_desanidado' exportados correctamente.\")"
   ]
  }
 ],
 "metadata": {
  "kernelspec": {
   "display_name": "Python 3",
   "language": "python",
   "name": "python3"
  },
  "language_info": {
   "codemirror_mode": {
    "name": "ipython",
    "version": 3
   },
   "file_extension": ".py",
   "mimetype": "text/x-python",
   "name": "python",
   "nbconvert_exporter": "python",
   "pygments_lexer": "ipython3",
   "version": "3.11.9"
  }
 },
 "nbformat": 4,
 "nbformat_minor": 2
}
