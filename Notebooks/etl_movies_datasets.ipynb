{
 "cells": [
  {
   "cell_type": "markdown",
   "metadata": {},
   "source": [
    "## Configuraciones Iniciales\n"
   ]
  },
  {
   "cell_type": "code",
   "execution_count": 28,
   "metadata": {},
   "outputs": [],
   "source": [
    "import sys\n",
    "import os\n",
    "import pandas as pd\n",
    "import numpy as np\n",
    "\n",
    "# Agregar la ruta del directorio scripts\n",
    "sys.path.append(os.path.abspath(os.path.join('..', 'scripts')))\n",
    "\n",
    "# Configuración de directorios\n",
    "RAW_DIR = r'D:\\Henry Data Science\\Proyecto_individual_1\\Datasets'\n",
    "PROCESSED_DIR = r'D:\\Henry Data Science\\Proyecto_individual_1\\Data'\n",
    "\n",
    "# Crear directorio de destino si no existe\n",
    "os.makedirs(PROCESSED_DIR, exist_ok=True)"
   ]
  },
  {
   "cell_type": "markdown",
   "metadata": {},
   "source": [
    "### Conversión del archivo CSV a Parquet.\n",
    "- Se convierte el CSV a Parquet optimizando el espacio y preparando el dataset para procesamiento."
   ]
  },
  {
   "cell_type": "code",
   "execution_count": 29,
   "metadata": {},
   "outputs": [
    {
     "name": "stderr",
     "output_type": "stream",
     "text": [
      "d:\\Henry Data Science\\Proyecto_individual_1\\scripts\\convert_csv_to_parquet.py:34: DtypeWarning: Columns (10) have mixed types. Specify dtype option on import or set low_memory=False.\n",
      "  df = pd.read_csv(csv_path)\n",
      "d:\\Henry Data Science\\Proyecto_individual_1\\scripts\\convert_csv_to_parquet.py:53: FutureWarning: A value is trying to be set on a copy of a DataFrame or Series through chained assignment using an inplace method.\n",
      "The behavior will change in pandas 3.0. This inplace method will never work because the intermediate object on which we are setting values always behaves as a copy.\n",
      "\n",
      "For example, when doing 'df[col].method(value, inplace=True)', try using 'df.method({col: value}, inplace=True)' or df[col] = df[col].method(value) instead, to perform the operation inplace on the original object.\n",
      "\n",
      "\n",
      "  df[column].fillna(value=value, inplace=True)\n"
     ]
    },
    {
     "name": "stdout",
     "output_type": "stream",
     "text": [
      "Advertencia: No se pudo convertir la columna 'popularity' al tipo '<class 'float'>'.\n",
      "Advertencia: No se pudo convertir la columna 'budget' al tipo '<class 'float'>'.\n",
      "Advertencia: No se pudo convertir la columna 'id' al tipo '<class 'int'>'.\n",
      "Archivo convertido correctamente y guardado en: D:\\Henry Data Science\\Proyecto_individual_1\\Datasets\\movies_dataset.parquet\n",
      "Conversión completada exitosamente.\n",
      "Archivo Parquet cargado exitosamente.\n",
      "                               belongs_to_collection      budget  \\\n",
      "0  {'id': 10194, 'name': 'Toy Story Collection', ...  30000000.0   \n",
      "1                                               None  65000000.0   \n",
      "2  {'id': 119050, 'name': 'Grumpy Old Men Collect...         0.0   \n",
      "3                                               None  16000000.0   \n",
      "4  {'id': 96871, 'name': 'Father of the Bride Col...         0.0   \n",
      "\n",
      "                                              genres       id  \\\n",
      "0  [{'id': 16, 'name': 'Animation'}, {'id': 35, '...    862.0   \n",
      "1  [{'id': 12, 'name': 'Adventure'}, {'id': 14, '...   8844.0   \n",
      "2  [{'id': 10749, 'name': 'Romance'}, {'id': 35, ...  15602.0   \n",
      "3  [{'id': 35, 'name': 'Comedy'}, {'id': 18, 'nam...  31357.0   \n",
      "4                     [{'id': 35, 'name': 'Comedy'}]  11862.0   \n",
      "\n",
      "  original_language                                           overview  \\\n",
      "0                en  Led by Woody, Andy's toys live happily in his ...   \n",
      "1                en  When siblings Judy and Peter discover an encha...   \n",
      "2                en  A family wedding reignites the ancient feud be...   \n",
      "3                en  Cheated on, mistreated and stepped on, the wom...   \n",
      "4                en  Just when George Banks has recovered from his ...   \n",
      "\n",
      "   popularity                               production_companies  \\\n",
      "0   21.946943     [{'name': 'Pixar Animation Studios', 'id': 3}]   \n",
      "1   17.015539  [{'name': 'TriStar Pictures', 'id': 559}, {'na...   \n",
      "2   11.712900  [{'name': 'Warner Bros.', 'id': 6194}, {'name'...   \n",
      "3    3.859495  [{'name': 'Twentieth Century Fox Film Corporat...   \n",
      "4    8.387519  [{'name': 'Sandollar Productions', 'id': 5842}...   \n",
      "\n",
      "                                production_countries release_date  \\\n",
      "0  [{'iso_3166_1': 'US', 'name': 'United States o...   1995-10-30   \n",
      "1  [{'iso_3166_1': 'US', 'name': 'United States o...   1995-12-15   \n",
      "2  [{'iso_3166_1': 'US', 'name': 'United States o...   1995-12-22   \n",
      "3  [{'iso_3166_1': 'US', 'name': 'United States o...   1995-12-22   \n",
      "4  [{'iso_3166_1': 'US', 'name': 'United States o...   1995-02-10   \n",
      "\n",
      "       revenue  runtime                                   spoken_languages  \\\n",
      "0  373554033.0     81.0           [{'iso_639_1': 'en', 'name': 'English'}]   \n",
      "1  262797249.0    104.0  [{'iso_639_1': 'en', 'name': 'English'}, {'iso...   \n",
      "2          0.0    101.0           [{'iso_639_1': 'en', 'name': 'English'}]   \n",
      "3   81452156.0    127.0           [{'iso_639_1': 'en', 'name': 'English'}]   \n",
      "4   76578911.0    106.0           [{'iso_639_1': 'en', 'name': 'English'}]   \n",
      "\n",
      "     status                                            tagline  \\\n",
      "0  Released                                               None   \n",
      "1  Released          Roll the dice and unleash the excitement!   \n",
      "2  Released  Still Yelling. Still Fighting. Still Ready for...   \n",
      "3  Released  Friends are the people who let you be yourself...   \n",
      "4  Released  Just When His World Is Back To Normal... He's ...   \n",
      "\n",
      "                         title  vote_average  vote_count  \n",
      "0                    Toy Story           7.7      5415.0  \n",
      "1                      Jumanji           6.9      2413.0  \n",
      "2             Grumpier Old Men           6.5        92.0  \n",
      "3            Waiting to Exhale           6.1        34.0  \n",
      "4  Father of the Bride Part II           5.7       173.0  \n",
      "Dimensiones del DataFrame: (45466, 18)\n"
     ]
    }
   ],
   "source": [
    "import os\n",
    "import pandas as pd\n",
    "from convert_csv_to_parquet import convertir_csv_a_parquet\n",
    "\n",
    "# Verificar que el archivo CSV existe\n",
    "csv_path = os.path.join(RAW_DIR, 'movies_dataset.csv')\n",
    "parquet_path = os.path.join(RAW_DIR, 'movies_dataset.parquet')\n",
    "if not os.path.exists(csv_path):\n",
    "    print(\"El archivo CSV no existe en la ruta especificada.\")\n",
    "else:\n",
    "    try:\n",
    "        # Convertir de CSV a Parquet con transformaciones\n",
    "        convertir_csv_a_parquet(\n",
    "            csv_path,\n",
    "            parquet_path,\n",
    "            columns_to_drop=['video', 'imdb_id', 'adult', 'original_title', 'poster_path', 'homepage'],\n",
    "            fillna_values={'revenue': 0, 'budget': 0},\n",
    "            dtype_conversion={'popularity': float, 'budget': float, 'id': int}\n",
    "        )\n",
    "        print(\"Conversión completada exitosamente.\")\n",
    "    except Exception as e:\n",
    "        print(f\"Ocurrió un error durante la conversión: {e}\")\n",
    "\n",
    "    # Leer el archivo convertido\n",
    "    if os.path.exists(parquet_path):\n",
    "        df = pd.read_parquet(parquet_path)\n",
    "        print(\"Archivo Parquet cargado exitosamente.\")\n",
    "        print(df.head())\n",
    "        print(f\"Dimensiones del DataFrame: {df.shape}\")\n",
    "\n",
    "        # Validar columnas procesadas\n",
    "        expected_columns = ['popularity', 'budget', 'id']\n",
    "        missing_columns = [col for col in expected_columns if col not in df.columns]\n",
    "        if missing_columns:\n",
    "            print(f\"Columnas faltantes en el DataFrame final: {missing_columns}\")\n",
    "    else:\n",
    "        print(\"El archivo Parquet no se generó correctamente.\")"
   ]
  },
  {
   "cell_type": "code",
   "execution_count": 26,
   "metadata": {},
   "outputs": [
    {
     "name": "stderr",
     "output_type": "stream",
     "text": [
      "d:\\Henry Data Science\\Proyecto_individual_1\\scripts\\convert_csv_to_parquet.py:34: DtypeWarning: Columns (10) have mixed types. Specify dtype option on import or set low_memory=False.\n",
      "  df = pd.read_csv(csv_path)\n",
      "d:\\Henry Data Science\\Proyecto_individual_1\\scripts\\convert_csv_to_parquet.py:53: FutureWarning: A value is trying to be set on a copy of a DataFrame or Series through chained assignment using an inplace method.\n",
      "The behavior will change in pandas 3.0. This inplace method will never work because the intermediate object on which we are setting values always behaves as a copy.\n",
      "\n",
      "For example, when doing 'df[col].method(value, inplace=True)', try using 'df.method({col: value}, inplace=True)' or df[col] = df[col].method(value) instead, to perform the operation inplace on the original object.\n",
      "\n",
      "\n",
      "  df[column].fillna(value=value, inplace=True)\n"
     ]
    },
    {
     "name": "stdout",
     "output_type": "stream",
     "text": [
      "Advertencia: No se pudo convertir la columna 'popularity' al tipo '<class 'float'>'.\n",
      "Advertencia: No se pudo convertir la columna 'budget' al tipo '<class 'float'>'.\n",
      "Advertencia: No se pudo convertir la columna 'id' al tipo '<class 'int'>'.\n",
      "Archivo convertido correctamente y guardado en: D:\\Henry Data Science\\Proyecto_individual_1\\Datasets\\movies_dataset.parquet\n"
     ]
    }
   ],
   "source": [
    "from convert_csv_to_parquet import convertir_csv_a_parquet\n",
    "\n",
    "convertir_csv_a_parquet(\n",
    "    os.path.join(RAW_DIR, 'movies_dataset.csv'),\n",
    "    os.path.join(RAW_DIR, 'movies_dataset.parquet'),\n",
    "    columns_to_drop=['video', 'imdb_id', 'adult', 'original_title', 'poster_path', 'homepage'],\n",
    "    fillna_values={'revenue': 0, 'budget': 0},\n",
    "    dtype_conversion={'popularity': float, 'budget': float, 'id': int}\n",
    ")\n",
    "\n",
    "# Leer el archivo convertido\n",
    "df = pd.read_parquet(os.path.join(RAW_DIR, 'movies_dataset.parquet'))"
   ]
  },
  {
   "cell_type": "markdown",
   "metadata": {},
   "source": [
    "## Limpieza y estandarización de datos.\n",
    "1. Fechas y años de estreno.\n",
    "- Eliminación de valores nulos y ajuste de formatos.\n",
    "2. Cálculo de \"Return\":\n",
    "- Generación de una columna que calcula la relación entre ingresos y presupuesto.\n",
    "3. Filtro de películas no publicadas.\n",
    "- Eliminación de filas cuyo status no sea \"Released\"."
   ]
  },
  {
   "cell_type": "code",
   "execution_count": 30,
   "metadata": {},
   "outputs": [
    {
     "name": "stdout",
     "output_type": "stream",
     "text": [
      "                               belongs_to_collection      budget  \\\n",
      "0  {'id': 10194, 'name': 'Toy Story Collection', ...  30000000.0   \n",
      "1                                               None  65000000.0   \n",
      "2  {'id': 119050, 'name': 'Grumpy Old Men Collect...         0.0   \n",
      "3                                               None  16000000.0   \n",
      "4  {'id': 96871, 'name': 'Father of the Bride Col...         0.0   \n",
      "\n",
      "                                              genres       id  \\\n",
      "0  [{'id': 16, 'name': 'Animation'}, {'id': 35, '...    862.0   \n",
      "1  [{'id': 12, 'name': 'Adventure'}, {'id': 14, '...   8844.0   \n",
      "2  [{'id': 10749, 'name': 'Romance'}, {'id': 35, ...  15602.0   \n",
      "3  [{'id': 35, 'name': 'Comedy'}, {'id': 18, 'nam...  31357.0   \n",
      "4                     [{'id': 35, 'name': 'Comedy'}]  11862.0   \n",
      "\n",
      "  original_language                                           overview  \\\n",
      "0                en  Led by Woody, Andy's toys live happily in his ...   \n",
      "1                en  When siblings Judy and Peter discover an encha...   \n",
      "2                en  A family wedding reignites the ancient feud be...   \n",
      "3                en  Cheated on, mistreated and stepped on, the wom...   \n",
      "4                en  Just when George Banks has recovered from his ...   \n",
      "\n",
      "   popularity                               production_companies  \\\n",
      "0   21.946943     [{'name': 'Pixar Animation Studios', 'id': 3}]   \n",
      "1   17.015539  [{'name': 'TriStar Pictures', 'id': 559}, {'na...   \n",
      "2   11.712900  [{'name': 'Warner Bros.', 'id': 6194}, {'name'...   \n",
      "3    3.859495  [{'name': 'Twentieth Century Fox Film Corporat...   \n",
      "4    8.387519  [{'name': 'Sandollar Productions', 'id': 5842}...   \n",
      "\n",
      "                                production_countries release_date  \\\n",
      "0  [{'iso_3166_1': 'US', 'name': 'United States o...   1995-10-30   \n",
      "1  [{'iso_3166_1': 'US', 'name': 'United States o...   1995-12-15   \n",
      "2  [{'iso_3166_1': 'US', 'name': 'United States o...   1995-12-22   \n",
      "3  [{'iso_3166_1': 'US', 'name': 'United States o...   1995-12-22   \n",
      "4  [{'iso_3166_1': 'US', 'name': 'United States o...   1995-02-10   \n",
      "\n",
      "       revenue  runtime                                   spoken_languages  \\\n",
      "0  373554033.0     81.0           [{'iso_639_1': 'en', 'name': 'English'}]   \n",
      "1  262797249.0    104.0  [{'iso_639_1': 'en', 'name': 'English'}, {'iso...   \n",
      "2          0.0    101.0           [{'iso_639_1': 'en', 'name': 'English'}]   \n",
      "3   81452156.0    127.0           [{'iso_639_1': 'en', 'name': 'English'}]   \n",
      "4   76578911.0    106.0           [{'iso_639_1': 'en', 'name': 'English'}]   \n",
      "\n",
      "                                             tagline  \\\n",
      "0                                               None   \n",
      "1          Roll the dice and unleash the excitement!   \n",
      "2  Still Yelling. Still Fighting. Still Ready for...   \n",
      "3  Friends are the people who let you be yourself...   \n",
      "4  Just When His World Is Back To Normal... He's ...   \n",
      "\n",
      "                         title  vote_average  vote_count  release_year  \\\n",
      "0                    Toy Story           7.7      5415.0          1995   \n",
      "1                      Jumanji           6.9      2413.0          1995   \n",
      "2             Grumpier Old Men           6.5        92.0          1995   \n",
      "3            Waiting to Exhale           6.1        34.0          1995   \n",
      "4  Father of the Bride Part II           5.7       173.0          1995   \n",
      "\n",
      "      return  \n",
      "0  12.451801  \n",
      "1   4.043035  \n",
      "2   0.000000  \n",
      "3   5.090760  \n",
      "4   0.000000  \n",
      "count    44936.000000\n",
      "mean      1991.819677\n",
      "std         24.072588\n",
      "min       1874.000000\n",
      "25%       1978.000000\n",
      "50%       2001.000000\n",
      "75%       2010.000000\n",
      "max       2017.000000\n",
      "Name: release_year, dtype: float64\n",
      "count    4.493600e+04\n",
      "mean     6.665056e+02\n",
      "std      7.505807e+04\n",
      "min      0.000000e+00\n",
      "25%      0.000000e+00\n",
      "50%      0.000000e+00\n",
      "75%      0.000000e+00\n",
      "max      1.239638e+07\n",
      "Name: return, dtype: float64\n"
     ]
    }
   ],
   "source": [
    "# Eliminar valores nulos en 'release_date' y corregir formato\n",
    "df['release_date'] = pd.to_datetime(df['release_date'], format='%Y-%m-%d', errors='coerce')\n",
    "df = df.dropna(subset=['release_date'])  # Eliminar filas con fechas no válidas\n",
    "df['release_year'] = df['release_date'].dt.year\n",
    "\n",
    "# Crear columna 'return' (revenue / budget) utilizando operaciones vectorizadas\n",
    "df['return'] = np.where(df['budget'] != 0, df['revenue'] / df['budget'], 0)\n",
    "\n",
    "# Filtrar películas no publicadas y eliminar columna 'status'\n",
    "df = df.loc[df['status'] == 'Released'].drop('status', axis=1)\n",
    "\n",
    "# Verificar datos procesados\n",
    "print(df.head())\n",
    "print(df['release_year'].describe())\n",
    "print(df['return'].describe())"
   ]
  },
  {
   "cell_type": "markdown",
   "metadata": {},
   "source": [
    "### Estandarización de formatos.\n",
    "- Conversión a tipos de datos consistentes.\n",
    "- Redondeo de valores numéricos para una mayor claridad."
   ]
  },
  {
   "cell_type": "code",
   "execution_count": 31,
   "metadata": {},
   "outputs": [],
   "source": [
    "df['title'] = df['title'].str.lower()\n",
    "df['release_year'] = df['release_year'].astype(int)\n",
    "df['vote_count'] = df['vote_count'].astype(int)\n",
    "df['id'] = df['id'].astype(int)\n",
    "\n",
    "df['return'] = df['return'].round(2)\n",
    "df['popularity'] = df['popularity'].round(2)"
   ]
  },
  {
   "cell_type": "markdown",
   "metadata": {},
   "source": [
    "## Desanidado de columnas.\n",
    "- Para datos complejos almacenados como listas o diccionarios, las columnas se transforman en tablas auxiliares."
   ]
  },
  {
   "cell_type": "markdown",
   "metadata": {},
   "source": [
    "belongs_to_collection"
   ]
  },
  {
   "cell_type": "code",
   "execution_count": 32,
   "metadata": {},
   "outputs": [],
   "source": [
    "from convert_str_to_list_dic import convert_list_dict\n",
    "\n",
    "df['belongs_to_collection'] = df['belongs_to_collection'].apply(convert_list_dict)\n",
    "\n",
    "# Desanidar y combinar\n",
    "belong_desanidado = pd.json_normalize(df['belongs_to_collection'])\n",
    "belong_desanidado.rename(columns={\n",
    "    'id': 'btc_id', \n",
    "    'name': 'btc_name', \n",
    "    'poster_path': 'btc_poster_path', \n",
    "    'backdrop_path': 'btc_backdrop_path'\n",
    "}, inplace=True)\n",
    "\n",
    "df = pd.concat([df, belong_desanidado], axis=1).drop(columns=['belongs_to_collection'])"
   ]
  },
  {
   "cell_type": "markdown",
   "metadata": {},
   "source": [
    "genres"
   ]
  },
  {
   "cell_type": "code",
   "execution_count": 33,
   "metadata": {},
   "outputs": [],
   "source": [
    "df['genres'] = df['genres'].apply(convert_list_dict)\n",
    "from dislodge_columns import desanidar_columna\n",
    "genres_desanidado = desanidar_columna(df, 'genres', 'genres_desanidado')"
   ]
  },
  {
   "cell_type": "markdown",
   "metadata": {},
   "source": [
    "production_companies"
   ]
  },
  {
   "cell_type": "code",
   "execution_count": 34,
   "metadata": {},
   "outputs": [],
   "source": [
    "df['production_companies'] = df['production_companies'].apply(convert_list_dict)\n",
    "pc_desanidado = desanidar_columna(df, 'production_companies', 'pc_desanidado', 1)"
   ]
  },
  {
   "cell_type": "markdown",
   "metadata": {},
   "source": [
    "production_countries"
   ]
  },
  {
   "cell_type": "code",
   "execution_count": 35,
   "metadata": {},
   "outputs": [],
   "source": [
    "df['production_countries'] = df['production_countries'].apply(convert_list_dict)\n",
    "pctry_desanidado = desanidar_columna(df, 'production_countries', 'pctry_desanidado', 2)"
   ]
  },
  {
   "cell_type": "markdown",
   "metadata": {},
   "source": [
    "spoken_languages"
   ]
  },
  {
   "cell_type": "code",
   "execution_count": 36,
   "metadata": {},
   "outputs": [],
   "source": [
    "df['spoken_languages'] = df['spoken_languages'].apply(convert_list_dict)\n",
    "slan_desanidado = desanidar_columna(df, 'spoken_languages', 'slan_desanidado', 3)"
   ]
  },
  {
   "cell_type": "markdown",
   "metadata": {},
   "source": [
    "### Optimización final.\n",
    "- Se eliminan las columnas innecesarias y se ajusta el dataset principal."
   ]
  },
  {
   "cell_type": "code",
   "execution_count": 37,
   "metadata": {},
   "outputs": [],
   "source": [
    "df = df.drop(columns=[\n",
    "    'btc_poster_path', 'btc_backdrop_path', 'tagline',\n",
    "    'genres', 'production_companies', 'production_countries', 'spoken_languages'\n",
    "])\n",
    "\n",
    "# Resetear el índice\n",
    "df = df.reset_index(drop=True)"
   ]
  },
  {
   "cell_type": "markdown",
   "metadata": {},
   "source": [
    "### Exportación de dataset y tablas auxiliares."
   ]
  },
  {
   "cell_type": "code",
   "execution_count": 38,
   "metadata": {},
   "outputs": [
    {
     "name": "stdout",
     "output_type": "stream",
     "text": [
      "Dataset principal exportado correctamente.\n",
      "Tablas auxiliares exportadas correctamente.\n"
     ]
    }
   ],
   "source": [
    "# Exportar el DataFrame principal\n",
    "df_path = os.path.join(PROCESSED_DIR, 'movies_dataset_etl.parquet')\n",
    "df.to_parquet(df_path, engine='pyarrow', compression='snappy', index=False)\n",
    "print(\"Dataset principal exportado correctamente.\")\n",
    "\n",
    "# Exportar tablas auxiliares\n",
    "genres_desanidado.to_parquet(os.path.join(PROCESSED_DIR, 'genres_desanidado.parquet'), engine='pyarrow', compression='snappy', index=False)\n",
    "pc_desanidado.to_parquet(os.path.join(PROCESSED_DIR, 'pc_desanidado.parquet'), engine='pyarrow', compression='snappy', index=False)\n",
    "pctry_desanidado.to_parquet(os.path.join(PROCESSED_DIR, 'pctry_desanidado.parquet'), engine='pyarrow', compression='snappy', index=False)\n",
    "\n",
    "# Nota: `slan_desanidado` no será exportada porque es irrelevante para el MVP.\n",
    "print(\"Tablas auxiliares exportadas correctamente.\")"
   ]
  }
 ],
 "metadata": {
  "kernelspec": {
   "display_name": "Python 3",
   "language": "python",
   "name": "python3"
  },
  "language_info": {
   "codemirror_mode": {
    "name": "ipython",
    "version": 3
   },
   "file_extension": ".py",
   "mimetype": "text/x-python",
   "name": "python",
   "nbconvert_exporter": "python",
   "pygments_lexer": "ipython3",
   "version": "3.11.9"
  }
 },
 "nbformat": 4,
 "nbformat_minor": 2
}
