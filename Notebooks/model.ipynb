{
 "cells": [
  {
   "cell_type": "markdown",
   "metadata": {},
   "source": [
    "## Configuraciones iniciales."
   ]
  },
  {
   "cell_type": "code",
   "execution_count": null,
   "metadata": {},
   "outputs": [],
   "source": [
    "import pandas as pd\n",
    "import numpy as np\n",
    "import joblib\n",
    "import os\n",
    "import psutil\n",
    "import re\n",
    "\n",
    "from sklearn.feature_extraction.text import TfidfVectorizer\n",
    "from sklearn.decomposition import TruncatedSVD\n",
    "from sklearn.metrics.pairwise import cosine_similarity\n"
   ]
  },
  {
   "cell_type": "markdown",
   "metadata": {},
   "source": [
    "### Carga de datos."
   ]
  },
  {
   "cell_type": "code",
   "execution_count": 7,
   "metadata": {},
   "outputs": [],
   "source": [
    "df = pd.read_parquet(r'D:\\Henry Data Science\\Proyecto_individual_1\\Data\\modelo_dataset.parquet')"
   ]
  },
  {
   "cell_type": "markdown",
   "metadata": {},
   "source": [
    "### Función para monitorear el uso de memoria."
   ]
  },
  {
   "cell_type": "code",
   "execution_count": 8,
   "metadata": {},
   "outputs": [],
   "source": [
    "def get_memory_usage():\n",
    "    process = psutil.Process(os.getpid())\n",
    "    mem_info = process.memory_info()\n",
    "    return mem_info.rss / (1024 * 1024)  # Convertir de bytes a MB"
   ]
  },
  {
   "cell_type": "markdown",
   "metadata": {},
   "source": [
    "### Configuración de TF - IDF con revisión de parámetros."
   ]
  },
  {
   "cell_type": "code",
   "execution_count": 9,
   "metadata": {},
   "outputs": [],
   "source": [
    "vectorizer = TfidfVectorizer(\n",
    "    min_df=4, max_df=0.85, ngram_range=(1, 2), max_features=40000, dtype=np.float32\n",
    ")\n",
    "\n",
    "matriz = vectorizer.fit_transform(df['predictor'])"
   ]
  },
  {
   "cell_type": "markdown",
   "metadata": {},
   "source": [
    "### Reducción de dimensionalidad y análisis de varianza explicada."
   ]
  },
  {
   "cell_type": "code",
   "execution_count": 10,
   "metadata": {},
   "outputs": [
    {
     "name": "stdout",
     "output_type": "stream",
     "text": [
      "Varianza explicada con SVD: 15.23%\n",
      "Uso de memoria: 520.13671875 MB\n"
     ]
    }
   ],
   "source": [
    "svd = TruncatedSVD(n_components=400, random_state=42)\n",
    "matriz_reducida = svd.fit_transform(matriz)\n",
    "explained_variance = svd.explained_variance_ratio_.sum()\n",
    "print(f\"Varianza explicada con SVD: {explained_variance:.2%}\")\n",
    "\n",
    "print(f\"Uso de memoria: {get_memory_usage()} MB\")"
   ]
  },
  {
   "cell_type": "markdown",
   "metadata": {},
   "source": [
    "### Función de recomendación."
   ]
  },
  {
   "cell_type": "code",
   "execution_count": 15,
   "metadata": {},
   "outputs": [
    {
     "ename": "NameError",
     "evalue": "name 're' is not defined",
     "output_type": "error",
     "traceback": [
      "\u001b[1;31m---------------------------------------------------------------------------\u001b[0m",
      "\u001b[1;31mNameError\u001b[0m                                 Traceback (most recent call last)",
      "Cell \u001b[1;32mIn[15], line 54\u001b[0m\n\u001b[0;32m     51\u001b[0m     \u001b[38;5;28;01mreturn\u001b[39;00m {\u001b[38;5;124m\"\u001b[39m\u001b[38;5;124mRecomendaciones\u001b[39m\u001b[38;5;124m\"\u001b[39m: recomendaciones}\n\u001b[0;32m     53\u001b[0m \u001b[38;5;66;03m# Ejemplo de uso\u001b[39;00m\n\u001b[1;32m---> 54\u001b[0m \u001b[38;5;28mprint\u001b[39m(\u001b[43mrecomendacion\u001b[49m\u001b[43m(\u001b[49m\u001b[38;5;124;43m'\u001b[39;49m\u001b[38;5;124;43mtoy story\u001b[39;49m\u001b[38;5;124;43m'\u001b[39;49m\u001b[43m)\u001b[49m)\n",
      "Cell \u001b[1;32mIn[15], line 30\u001b[0m, in \u001b[0;36mrecomendacion\u001b[1;34m(title, top_n)\u001b[0m\n\u001b[0;32m     28\u001b[0m \u001b[38;5;28;01mdef\u001b[39;00m \u001b[38;5;21mrecomendacion\u001b[39m(title, top_n\u001b[38;5;241m=\u001b[39m\u001b[38;5;241m5\u001b[39m):\n\u001b[0;32m     29\u001b[0m     \u001b[38;5;66;03m# Buscar coincidencia en títulos\u001b[39;00m\n\u001b[1;32m---> 30\u001b[0m     match \u001b[38;5;241m=\u001b[39m \u001b[43mencontrar_coincidencia\u001b[49m\u001b[43m(\u001b[49m\u001b[43mtitle\u001b[49m\u001b[43m,\u001b[49m\u001b[43m \u001b[49m\u001b[43mdf\u001b[49m\u001b[43m[\u001b[49m\u001b[38;5;124;43m'\u001b[39;49m\u001b[38;5;124;43mtitle\u001b[39;49m\u001b[38;5;124;43m'\u001b[39;49m\u001b[43m]\u001b[49m\u001b[43m)\u001b[49m\n\u001b[0;32m     31\u001b[0m     \u001b[38;5;28;01mif\u001b[39;00m \u001b[38;5;129;01mnot\u001b[39;00m match:\n\u001b[0;32m     32\u001b[0m         \u001b[38;5;28;01mreturn\u001b[39;00m {\u001b[38;5;124m\"\u001b[39m\u001b[38;5;124mError\u001b[39m\u001b[38;5;124m\"\u001b[39m: \u001b[38;5;124m\"\u001b[39m\u001b[38;5;124mTítulo no encontrado\u001b[39m\u001b[38;5;124m\"\u001b[39m}\n",
      "Cell \u001b[1;32mIn[15], line 11\u001b[0m, in \u001b[0;36mencontrar_coincidencia\u001b[1;34m(titulo, titulos, umbral)\u001b[0m\n\u001b[0;32m      7\u001b[0m \u001b[38;5;28;01mdef\u001b[39;00m \u001b[38;5;21mencontrar_coincidencia\u001b[39m(titulo, titulos, umbral\u001b[38;5;241m=\u001b[39m\u001b[38;5;241m0.75\u001b[39m):\n\u001b[0;32m      8\u001b[0m \u001b[38;5;250m    \u001b[39m\u001b[38;5;124;03m\"\"\"\u001b[39;00m\n\u001b[0;32m      9\u001b[0m \u001b[38;5;124;03m    Encuentra el título más parecido en la lista basada en longitud común y similitud.\u001b[39;00m\n\u001b[0;32m     10\u001b[0m \u001b[38;5;124;03m    \"\"\"\u001b[39;00m\n\u001b[1;32m---> 11\u001b[0m     titulo \u001b[38;5;241m=\u001b[39m \u001b[43mlimpiar_texto\u001b[49m\u001b[43m(\u001b[49m\u001b[43mtitulo\u001b[49m\u001b[43m)\u001b[49m\n\u001b[0;32m     12\u001b[0m     mejores_resultados \u001b[38;5;241m=\u001b[39m []\n\u001b[0;32m     13\u001b[0m     \u001b[38;5;28;01mfor\u001b[39;00m t \u001b[38;5;129;01min\u001b[39;00m titulos:\n",
      "Cell \u001b[1;32mIn[15], line 4\u001b[0m, in \u001b[0;36mlimpiar_texto\u001b[1;34m(texto)\u001b[0m\n\u001b[0;32m      2\u001b[0m \u001b[38;5;250m\u001b[39m\u001b[38;5;124;03m\"\"\"Normaliza texto eliminando caracteres especiales y espacios redundantes.\"\"\"\u001b[39;00m\n\u001b[0;32m      3\u001b[0m texto \u001b[38;5;241m=\u001b[39m texto\u001b[38;5;241m.\u001b[39mlower()  \u001b[38;5;66;03m# Convertir a minúsculas\u001b[39;00m\n\u001b[1;32m----> 4\u001b[0m texto \u001b[38;5;241m=\u001b[39m \u001b[43mre\u001b[49m\u001b[38;5;241m.\u001b[39msub(\u001b[38;5;124mr\u001b[39m\u001b[38;5;124m\"\u001b[39m\u001b[38;5;124m[^a-zA-Z0-9\u001b[39m\u001b[38;5;124m\\\u001b[39m\u001b[38;5;124ms]\u001b[39m\u001b[38;5;124m\"\u001b[39m, \u001b[38;5;124m\"\u001b[39m\u001b[38;5;124m\"\u001b[39m, texto)  \u001b[38;5;66;03m# Eliminar caracteres especiales\u001b[39;00m\n\u001b[0;32m      5\u001b[0m \u001b[38;5;28;01mreturn\u001b[39;00m texto\u001b[38;5;241m.\u001b[39mstrip()\n",
      "\u001b[1;31mNameError\u001b[0m: name 're' is not defined"
     ]
    }
   ],
   "source": [
    "def limpiar_texto(texto):\n",
    "    \"\"\"Normaliza texto eliminando caracteres especiales y espacios redundantes.\"\"\"\n",
    "    texto = texto.lower()  # Convertir a minúsculas\n",
    "    texto = re.sub(r\"[^a-zA-Z0-9\\s]\", \"\", texto)  # Eliminar caracteres especiales\n",
    "    return texto.strip()\n",
    "\n",
    "def encontrar_coincidencia(titulo, titulos, umbral=0.75):\n",
    "    \"\"\"\n",
    "    Encuentra el título más parecido en la lista basada en longitud común y similitud.\n",
    "    \"\"\"\n",
    "    titulo = limpiar_texto(titulo)\n",
    "    mejores_resultados = []\n",
    "    for t in titulos:\n",
    "        t_limpio = limpiar_texto(t)\n",
    "        # Similaridad basada en longitud común\n",
    "        coincidencia = len(set(titulo) & set(t_limpio)) / max(len(titulo), len(t_limpio))\n",
    "        mejores_resultados.append((t, coincidencia))\n",
    "\n",
    "    # Ordenar resultados por similitud\n",
    "    mejores_resultados = sorted(mejores_resultados, key=lambda x: x[1], reverse=True)\n",
    "    \n",
    "    # Retornar el mejor si cumple con el umbral\n",
    "    if mejores_resultados[0][1] >= umbral:\n",
    "        return mejores_resultados[0][0]\n",
    "    else:\n",
    "        return None\n",
    "\n",
    "def recomendacion(title, top_n=5):\n",
    "    # Buscar coincidencia en títulos\n",
    "    match = encontrar_coincidencia(title, df['title'])\n",
    "    if not match:\n",
    "        return {\"Error\": \"Título no encontrado\"}\n",
    "\n",
    "    # Obtener índice del título encontrado\n",
    "    idx_list = df.index[df['title'] == match].tolist()\n",
    "    if not idx_list:\n",
    "        return {\"Error\": \"Título no encontrado\"}\n",
    "    idx = idx_list[0]\n",
    "\n",
    "    # Calcular similitud de coseno\n",
    "    sim_scores = cosine_similarity(matriz_reducida[idx].reshape(1, -1), matriz_reducida)\n",
    "    sim_scores = list(enumerate(sim_scores[0]))\n",
    "    sim_scores = sorted(sim_scores, key=lambda x: x[1], reverse=True)\n",
    "\n",
    "    # Ajustar top_n al número de películas disponibles\n",
    "    top_n = min(top_n, len(sim_scores) - 1)\n",
    "    movie_indices = [i[0] for i in sim_scores[1 : top_n + 1]]\n",
    "\n",
    "    # Generar recomendaciones\n",
    "    recomendaciones = df['title'].iloc[movie_indices].tolist()\n",
    "    return {\"Recomendaciones\": recomendaciones}\n",
    "\n",
    "# Ejemplo de uso\n",
    "print(recomendacion('toy story'))"
   ]
  },
  {
   "cell_type": "markdown",
   "metadata": {},
   "source": [
    "### Guardar los modelos optimizados."
   ]
  },
  {
   "cell_type": "code",
   "execution_count": 13,
   "metadata": {},
   "outputs": [
    {
     "data": {
      "text/plain": [
       "['../data/processed/matriz_reducida.pkl']"
      ]
     },
     "execution_count": 13,
     "metadata": {},
     "output_type": "execute_result"
    }
   ],
   "source": [
    "directory = '../data/processed/'\n",
    "if not os.path.exists(directory):\n",
    "    os.makedirs(directory)\n",
    "\n",
    "joblib.dump(vectorizer, os.path.join(directory, 'vectorizer.pkl'), compress=3)\n",
    "joblib.dump(matriz_reducida, os.path.join(directory, 'matriz_reducida.pkl'), compress=3)"
   ]
  },
  {
   "cell_type": "markdown",
   "metadata": {},
   "source": [
    "### Obtener tamaño de archivos comprimidos."
   ]
  },
  {
   "cell_type": "code",
   "execution_count": 14,
   "metadata": {},
   "outputs": [
    {
     "name": "stdout",
     "output_type": "stream",
     "text": [
      "Tamaño del vectorizer: 0.44 MB\n",
      "Tamaño de la matriz reducida: 31.63 MB\n"
     ]
    }
   ],
   "source": [
    "def get_file_size(file_path):\n",
    "    try:\n",
    "        size = os.path.getsize(file_path)\n",
    "        return size / (1024 * 1024)\n",
    "    except FileNotFoundError:\n",
    "        return \"El archivo no existe.\"\n",
    "\n",
    "vectorizer_path = '../data/processed/vectorizer.pkl'\n",
    "matriz_reducida_path = '../data/processed/matriz_reducida.pkl'\n",
    "\n",
    "print(f\"Tamaño del vectorizer: {get_file_size(vectorizer_path):.2f} MB\")\n",
    "print(f\"Tamaño de la matriz reducida: {get_file_size(matriz_reducida_path):.2f} MB\")\n"
   ]
  }
 ],
 "metadata": {
  "kernelspec": {
   "display_name": "Python 3",
   "language": "python",
   "name": "python3"
  },
  "language_info": {
   "codemirror_mode": {
    "name": "ipython",
    "version": 3
   },
   "file_extension": ".py",
   "mimetype": "text/x-python",
   "name": "python",
   "nbconvert_exporter": "python",
   "pygments_lexer": "ipython3",
   "version": "3.12.4"
  }
 },
 "nbformat": 4,
 "nbformat_minor": 2
}
